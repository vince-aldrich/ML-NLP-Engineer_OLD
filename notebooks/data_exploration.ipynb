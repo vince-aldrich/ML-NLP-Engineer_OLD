# %%
!pip install matplotlib seaborn

# %%
from datasets import load_dataset
import pandas as pd
import seaborn as sns

import matplotlib.pyplot as plt

# %%
# Load the TweetEval dataset (for example, the 'sentiment' subset)
dataset = load_dataset("tweet_eval", "sentiment")
df_train = pd.DataFrame(dataset['train'])

# Show basic info
print("Train shape:", df_train.shape)
display(df_train.head())

# Check for missing values
print("\nMissing values:\n", df_train.isnull().sum())

# Class distribution
sns.countplot(x='label', data=df_train)
plt.title('Label Distribution')
plt.show()

# Tweet length distribution
df_train['tweet_length'] = df_train['text'].apply(len)
sns.histplot(df_train['tweet_length'], bins=30, kde=True)
plt.title('Tweet Length Distribution')
plt.xlabel('Number of Characters')
plt.show()

# %%


# %%
from sklearn.metrics import confusion_matrix, ConfusionMatrixDisplay

# Get true labels and predicted labels (for demonstration, use a dummy classifier: predict all as most frequent class)
y_true = df_train['label']
y_pred = [y_true.mode()[0]] * len(y_true)  # Replace with your model's predictions

cm = confusion_matrix(y_true, y_pred)
disp = ConfusionMatrixDisplay(confusion_matrix=cm)
disp.plot()
plt.title('Confusion Matrix (Dummy Classifier)')
plt.show()

# %%

